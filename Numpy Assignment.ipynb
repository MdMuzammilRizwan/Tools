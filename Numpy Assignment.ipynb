{
 "cells": [
  {
   "cell_type": "markdown",
   "id": "5d99d3ff-04f6-49f1-b01f-a74b2fec9ea0",
   "metadata": {},
   "source": [
    "1. What is a Python library? Why do we use Python libraries?"
   ]
  },
  {
   "cell_type": "markdown",
   "id": "63b6411b-0414-44b8-8a57-e52814592cea",
   "metadata": {},
   "source": [
    "A Python library is a collection of pre-written code or functions that provide functionality to perform specific tasks. These libraries are designed to be reused by developers to simplify their programming tasks and avoid reinventing the wheel for common functionalities."
   ]
  },
  {
   "cell_type": "markdown",
   "id": "4214971c-6763-47ee-a4d8-227335471b16",
   "metadata": {},
   "source": [
    "There are several reasons why we use Python libraries:\n",
    "1) Code Reusability\n",
    "2) Efficiency\n",
    "3) Specialized Functionality\n",
    "4) Community Support\n",
    "5) Standardization\n"
   ]
  },
  {
   "cell_type": "markdown",
   "id": "59ee8442-f130-4eae-a047-c0153140b363",
   "metadata": {},
   "source": [
    "2. What is the difference between Numpy array and List?"
   ]
  },
  {
   "cell_type": "markdown",
   "id": "56ace282-b33f-4735-8b74-a1910fc09931",
   "metadata": {},
   "source": [
    "NumPy arrays are more suitable for numerical computations and large datasets due to their efficiency, performance, and extensive functionality, while Python lists offer more flexibility and simplicity for general-purpose use cases.\n",
    "\n",
    "NumPy arrays and Python lists are both used to store collections of elements, but they have some fundamental differences:\n",
    "\n",
    "1) Data Type:\n",
    "\r\n",
    "NumPy arrays are homogeneous, meaning all elements must have the same data type (e.g., integers, floats, etc.\n",
    "\n",
    "Python lists are heterogeneous, meaning they can contain elements of different data types.\n",
    "\n",
    "2) Memory Efficiency:\n",
    "   \n",
    "NumPy arrays are more memory efficient compared to Python lists, especially for large datasets. This is because NumPy arrays store data in contiguous blocks of memory, while Python lists store references to objects scattered throughout memory.\n",
    "\n",
    "4) Peformance:\n",
    "   \n",
    "NumPy operations on arrays are typically faster than equivalent operations on Python lists. This is due to NumPy's ability to leverage vectorized operations and optimized C code implementations.\n",
    "\n",
    "6) Functionality:\n",
    "   \n",
    "NumPy arrays offer a wide range of mathematical and array manipulation functions that are optimized for performance. These functions include element-wise operations, linear algebra operations, statistical functions, and more.\n",
    "\r\n",
    "Python lists provide basic functionalities for storing and manipulating collections of elements. While lists offer some built-in methods (e.g., append, extend, insert), they do not provide as extensive functionality as NumPy arrays\n",
    "\n",
    "5) Syntax and Usage:\n",
    "   \n",
    "NumPy arrays are created using the numpy.array() function and accessed using indexing, slicing, and broadcasting operations similar to standard arrays in other programming languages.\n",
    "\r\n",
    "Python lists are created using square brackets ([]) and support a wide range of operations and manipulations through built-in methods and functions..).)."
   ]
  },
  {
   "cell_type": "markdown",
   "id": "794dbe85-f805-4f80-82da-dff7d3edfeed",
   "metadata": {},
   "source": [
    "3. Find the shape, size and dimension of the following array?\n",
    "   \r\n",
    "[[1, 2, 3, 4]\r\n",
    "[5, 6, 7, 8],\r\n",
    "[9, 10, 11, 12]]"
   ]
  },
  {
   "cell_type": "code",
   "execution_count": 4,
   "id": "5fe20a19-783c-46ee-bf4d-7609424456af",
   "metadata": {},
   "outputs": [],
   "source": [
    "import numpy as np\n",
    "arr = np.array([[1, 2, 3, 4], [5, 6, 7, 8], [9, 10, 11, 12]])"
   ]
  },
  {
   "cell_type": "code",
   "execution_count": 5,
   "id": "d18c819d-3fb7-4b11-a258-75d2eb6fea63",
   "metadata": {},
   "outputs": [
    {
     "data": {
      "text/plain": [
       "array([[ 1,  2,  3,  4],\n",
       "       [ 5,  6,  7,  8],\n",
       "       [ 9, 10, 11, 12]])"
      ]
     },
     "execution_count": 5,
     "metadata": {},
     "output_type": "execute_result"
    }
   ],
   "source": [
    "arr"
   ]
  },
  {
   "cell_type": "code",
   "execution_count": 6,
   "id": "94f9ab9d-848b-4867-9604-cf9426a0d39f",
   "metadata": {},
   "outputs": [
    {
     "data": {
      "text/plain": [
       "(3, 4)"
      ]
     },
     "execution_count": 6,
     "metadata": {},
     "output_type": "execute_result"
    }
   ],
   "source": [
    "arr.shape"
   ]
  },
  {
   "cell_type": "code",
   "execution_count": 7,
   "id": "ad7ac9ee-2400-475a-a69c-ef6b74c4a1b5",
   "metadata": {},
   "outputs": [
    {
     "data": {
      "text/plain": [
       "12"
      ]
     },
     "execution_count": 7,
     "metadata": {},
     "output_type": "execute_result"
    }
   ],
   "source": [
    "arr.size"
   ]
  },
  {
   "cell_type": "code",
   "execution_count": 8,
   "id": "37d93bd0-009a-4a77-9e60-fbd4f454b7ce",
   "metadata": {},
   "outputs": [
    {
     "data": {
      "text/plain": [
       "2"
      ]
     },
     "execution_count": 8,
     "metadata": {},
     "output_type": "execute_result"
    }
   ],
   "source": [
    "arr.ndim"
   ]
  },
  {
   "cell_type": "markdown",
   "id": "45e900c2-65ef-4db3-a10e-16c58bbc5d83",
   "metadata": {},
   "source": [
    "4. Write python code to access the first row of the following array?\n",
    "[[1, 2, 3, 4]\n",
    "[5, 6, 7, 8],\n",
    "[9, 10, 11, 12]]"
   ]
  },
  {
   "cell_type": "code",
   "execution_count": 9,
   "id": "8a46dea7-5e3c-4c28-aa54-01de4bcc9b27",
   "metadata": {},
   "outputs": [
    {
     "data": {
      "text/plain": [
       "array([[ 1,  2,  3,  4],\n",
       "       [ 5,  6,  7,  8],\n",
       "       [ 9, 10, 11, 12]])"
      ]
     },
     "execution_count": 9,
     "metadata": {},
     "output_type": "execute_result"
    }
   ],
   "source": [
    "arr"
   ]
  },
  {
   "cell_type": "code",
   "execution_count": 10,
   "id": "8e5957ae-e039-4e45-89f2-1951b429667b",
   "metadata": {},
   "outputs": [
    {
     "data": {
      "text/plain": [
       "array([1, 2, 3, 4])"
      ]
     },
     "execution_count": 10,
     "metadata": {},
     "output_type": "execute_result"
    }
   ],
   "source": [
    "arr[0]"
   ]
  },
  {
   "cell_type": "markdown",
   "id": "26b2dc4e-72a8-4561-9feb-bf60c480e675",
   "metadata": {},
   "source": [
    "5. How do you access the element at the third row and fourth column from the given numpy array?\n",
    "\n",
    "[[1, 2, 3, 4]\n",
    "[5, 6, 7, 8],\n",
    "[9, 10, 11, 12]]"
   ]
  },
  {
   "cell_type": "code",
   "execution_count": 11,
   "id": "4c9ce994-8d02-4942-82f5-30e20d2f0130",
   "metadata": {},
   "outputs": [
    {
     "data": {
      "text/plain": [
       "array([[ 1,  2,  3,  4],\n",
       "       [ 5,  6,  7,  8],\n",
       "       [ 9, 10, 11, 12]])"
      ]
     },
     "execution_count": 11,
     "metadata": {},
     "output_type": "execute_result"
    }
   ],
   "source": [
    "arr"
   ]
  },
  {
   "cell_type": "code",
   "execution_count": 13,
   "id": "c7adc1ab-129f-4439-9fc8-7b5d3c2459b5",
   "metadata": {},
   "outputs": [
    {
     "data": {
      "text/plain": [
       "12"
      ]
     },
     "execution_count": 13,
     "metadata": {},
     "output_type": "execute_result"
    }
   ],
   "source": [
    "arr[2][3]"
   ]
  },
  {
   "cell_type": "markdown",
   "id": "86cc01f7-e8fb-4c99-a650-e1b439e9d47e",
   "metadata": {},
   "source": [
    "6. Write code to extract all odd-indexed elements from the given numpy array?\n",
    "[[1, 2, 3, 4]\n",
    "[5, 6, 7, 8],\n",
    "[9, 10, 11, 12]]"
   ]
  },
  {
   "cell_type": "code",
   "execution_count": 14,
   "id": "57cfc45b-bbe2-48d4-850d-2b132b7dccbf",
   "metadata": {},
   "outputs": [
    {
     "data": {
      "text/plain": [
       "array([[ 1,  2,  3,  4],\n",
       "       [ 5,  6,  7,  8],\n",
       "       [ 9, 10, 11, 12]])"
      ]
     },
     "execution_count": 14,
     "metadata": {},
     "output_type": "execute_result"
    }
   ],
   "source": [
    "arr"
   ]
  },
  {
   "cell_type": "code",
   "execution_count": 16,
   "id": "61cb4674-9e66-4d51-accb-e9c78d4d91cf",
   "metadata": {},
   "outputs": [
    {
     "data": {
      "text/plain": [
       "array([[ 2,  4],\n",
       "       [ 6,  8],\n",
       "       [10, 12]])"
      ]
     },
     "execution_count": 16,
     "metadata": {},
     "output_type": "execute_result"
    }
   ],
   "source": [
    "arr[:,1::2]"
   ]
  },
  {
   "cell_type": "markdown",
   "id": "13fcfe1a-8ddb-42ec-9670-98520ef5c7ce",
   "metadata": {},
   "source": [
    "7. How can you generate a random 3x3 matrix with values between 0 and 1?"
   ]
  },
  {
   "cell_type": "code",
   "execution_count": 21,
   "id": "9379975a-715a-4599-99fe-24fbb12b4fd8",
   "metadata": {},
   "outputs": [],
   "source": [
    "arr1 = np.random.randint(0,2,size = (3,3))"
   ]
  },
  {
   "cell_type": "code",
   "execution_count": 22,
   "id": "43c7f4c4-fcf5-4307-ad7e-3c63fa048935",
   "metadata": {},
   "outputs": [
    {
     "data": {
      "text/plain": [
       "array([[1, 0, 0],\n",
       "       [1, 0, 0],\n",
       "       [1, 0, 1]])"
      ]
     },
     "execution_count": 22,
     "metadata": {},
     "output_type": "execute_result"
    }
   ],
   "source": [
    "arr1"
   ]
  },
  {
   "cell_type": "markdown",
   "id": "73344a5a-e5db-4be1-8cf6-620ee60e6f14",
   "metadata": {},
   "source": [
    "8. Describe the difference between np.random.rand and np.random.randn?"
   ]
  },
  {
   "cell_type": "markdown",
   "id": "66e860da-d3a9-4311-b898-bcee15cd2a73",
   "metadata": {},
   "source": [
    " the main difference between np.random.rand and np.random.randn lies in the distributions they generate random numbers from:\n",
    "\n",
    " np.random.rand generates random numbers from a uniform distribution between 0 and 1"
   ]
  },
  {
   "cell_type": "code",
   "execution_count": 23,
   "id": "3b0dddcd-e15c-4b34-bfa1-3280a9daac94",
   "metadata": {},
   "outputs": [
    {
     "data": {
      "text/plain": [
       "array([[0.28292424, 0.39091731, 0.62041411],\n",
       "       [0.16017505, 0.59409918, 0.92839482],\n",
       "       [0.32713009, 0.29617115, 0.52081156]])"
      ]
     },
     "execution_count": 23,
     "metadata": {},
     "output_type": "execute_result"
    }
   ],
   "source": [
    "np.random.rand(3,3)"
   ]
  },
  {
   "cell_type": "markdown",
   "id": "c9eb10bd-2d97-4fe8-8847-237084e3f008",
   "metadata": {},
   "source": [
    "np.random.randn generates random numbers from a standard normal distribution with mean 0 and standard deviation 1."
   ]
  },
  {
   "cell_type": "code",
   "execution_count": 24,
   "id": "c1f9ac23-9de9-4206-9002-4fc281a6e2be",
   "metadata": {},
   "outputs": [
    {
     "data": {
      "text/plain": [
       "array([[ 7.43852573e-01,  2.09594712e+00, -2.64489181e-01],\n",
       "       [ 5.75545799e-01, -1.66276134e-03,  7.51835415e-01],\n",
       "       [ 1.15614261e+00, -1.17859009e+00,  1.47790730e+00]])"
      ]
     },
     "execution_count": 24,
     "metadata": {},
     "output_type": "execute_result"
    }
   ],
   "source": [
    "np.random.randn(3,3)"
   ]
  },
  {
   "cell_type": "markdown",
   "id": "d03a862e-6531-4bea-9a01-7f02ac75e3c9",
   "metadata": {},
   "source": [
    "9. Write code to increase the dimension of the following array?\n",
    "    \n",
    "[[1, 2, 3, 4]\n",
    "[5, 6, 7, 8],\n",
    "[9, 10, 11, 12]]"
   ]
  },
  {
   "cell_type": "code",
   "execution_count": 31,
   "id": "f1b30d13-dde3-4deb-8423-e4c2ab1f9762",
   "metadata": {},
   "outputs": [
    {
     "name": "stdout",
     "output_type": "stream",
     "text": [
      "[[ 1  2  3  4]\n",
      " [ 5  6  7  8]\n",
      " [ 9 10 11 12]]\n",
      "The dimension of the array is: 2\n"
     ]
    }
   ],
   "source": [
    "print(arr)\n",
    "print(\"The dimension of the array is:\",arr.ndim)"
   ]
  },
  {
   "cell_type": "code",
   "execution_count": 32,
   "id": "660b2e11-f8c4-47c2-9d3c-e61645e46928",
   "metadata": {},
   "outputs": [
    {
     "name": "stdout",
     "output_type": "stream",
     "text": [
      "[[[ 1  2  3  4]\n",
      "  [ 5  6  7  8]\n",
      "  [ 9 10 11 12]]]\n",
      "The dimension got expanded from 2 to 3 3\n"
     ]
    }
   ],
   "source": [
    "arr1 = np.expand_dims(arr, axis = 0)\n",
    "print(arr1)\n",
    "print(\"The dimension got expanded from 2 to 3\",arr1.ndim)"
   ]
  },
  {
   "cell_type": "markdown",
   "id": "cbf7e6d4-cff1-4d37-a26b-8b783917b82e",
   "metadata": {},
   "source": [
    "10. How to transpose the following array in NumPy?\n",
    "    \n",
    "[[1, 2, 3, 4]\n",
    "[5, 6, 7, 8],\n",
    "[9, 10, 11, 12]]"
   ]
  },
  {
   "cell_type": "code",
   "execution_count": 33,
   "id": "51a46aae-8758-487b-b63f-28519aff103c",
   "metadata": {},
   "outputs": [
    {
     "data": {
      "text/plain": [
       "array([[ 1,  2,  3,  4],\n",
       "       [ 5,  6,  7,  8],\n",
       "       [ 9, 10, 11, 12]])"
      ]
     },
     "execution_count": 33,
     "metadata": {},
     "output_type": "execute_result"
    }
   ],
   "source": [
    "arr"
   ]
  },
  {
   "cell_type": "code",
   "execution_count": 34,
   "id": "efb761d5-a085-47e4-9f74-98abdf6c7f62",
   "metadata": {},
   "outputs": [
    {
     "data": {
      "text/plain": [
       "array([[ 1,  5,  9],\n",
       "       [ 2,  6, 10],\n",
       "       [ 3,  7, 11],\n",
       "       [ 4,  8, 12]])"
      ]
     },
     "execution_count": 34,
     "metadata": {},
     "output_type": "execute_result"
    }
   ],
   "source": [
    "arr.T"
   ]
  },
  {
   "cell_type": "markdown",
   "id": "cd926304-8403-44bb-8117-38c2a9e6b0cb",
   "metadata": {},
   "source": [
    "11. Consider the following matrix:\n",
    "    \n",
    "Matrix A2 [[1, 2, 3, 4] [5, 6, 7, 8],[9, 10, 11, 12]]\n",
    "\n",
    "Matrix B2 [[1, 2, 3, 4] [5, 6, 7, 8],[9, 10, 11, 12]]\n",
    "\n",
    "Perform the following operation using Python\n",
    "\n",
    "1) Index wise multiplication"
   ]
  },
  {
   "cell_type": "code",
   "execution_count": 40,
   "id": "a79d42b4-9a84-4510-af5a-a4b4f21bb902",
   "metadata": {},
   "outputs": [],
   "source": [
    "a2 = np.matrix(arr)\n",
    "b2 = np.matrix(arr)"
   ]
  },
  {
   "cell_type": "code",
   "execution_count": 41,
   "id": "fab8ac3f-44a5-468f-8a19-ad66990f4773",
   "metadata": {},
   "outputs": [
    {
     "data": {
      "text/plain": [
       "matrix([[ 1,  2,  3,  4],\n",
       "        [ 5,  6,  7,  8],\n",
       "        [ 9, 10, 11, 12]])"
      ]
     },
     "execution_count": 41,
     "metadata": {},
     "output_type": "execute_result"
    }
   ],
   "source": [
    "a2"
   ]
  },
  {
   "cell_type": "code",
   "execution_count": 42,
   "id": "d73ab6c3-5178-4be0-8c67-aaea9dc19458",
   "metadata": {},
   "outputs": [
    {
     "data": {
      "text/plain": [
       "matrix([[ 1,  2,  3,  4],\n",
       "        [ 5,  6,  7,  8],\n",
       "        [ 9, 10, 11, 12]])"
      ]
     },
     "execution_count": 42,
     "metadata": {},
     "output_type": "execute_result"
    }
   ],
   "source": [
    "b2"
   ]
  },
  {
   "cell_type": "code",
   "execution_count": 57,
   "id": "901dd6a6-ffe4-44aa-9cc5-8da67c1d0d00",
   "metadata": {},
   "outputs": [
    {
     "data": {
      "text/plain": [
       "matrix([[ 30,  70, 110],\n",
       "        [ 70, 174, 278],\n",
       "        [110, 278, 446]])"
      ]
     },
     "execution_count": 57,
     "metadata": {},
     "output_type": "execute_result"
    }
   ],
   "source": [
    "# Index wise multiplication\n",
    "# here we need to take the transpose of b2 because\n",
    "#to perform index wise multiplication b/w mxn & pxq\n",
    "# n == p\n",
    "# we can do index wise multiplication of arrays of any sizes\n",
    "a2 * b2.T"
   ]
  },
  {
   "cell_type": "markdown",
   "id": "da2a1f75-4723-4017-b102-e7115092f985",
   "metadata": {},
   "source": [
    "2) Matix multiplication"
   ]
  },
  {
   "cell_type": "code",
   "execution_count": 49,
   "id": "25d792a5-0b7d-4fdb-b514-602be3e94aad",
   "metadata": {},
   "outputs": [
    {
     "data": {
      "text/plain": [
       "matrix([[ 30,  70, 110],\n",
       "        [ 70, 174, 278],\n",
       "        [110, 278, 446]])"
      ]
     },
     "execution_count": 49,
     "metadata": {},
     "output_type": "execute_result"
    }
   ],
   "source": [
    "# here we need to take the transpose of b2 because\n",
    "#to perform index wise multiplication b/w mxn & pxq\n",
    "a2 @ b2.T"
   ]
  },
  {
   "cell_type": "markdown",
   "id": "bbd4feaf-d6ca-46e1-86b3-847d6f945b04",
   "metadata": {},
   "source": [
    "3) Add both the maticx"
   ]
  },
  {
   "cell_type": "code",
   "execution_count": 50,
   "id": "132fd173-2405-461f-93f2-d1f50f1a0a19",
   "metadata": {},
   "outputs": [
    {
     "data": {
      "text/plain": [
       "matrix([[ 2,  4,  6,  8],\n",
       "        [10, 12, 14, 16],\n",
       "        [18, 20, 22, 24]])"
      ]
     },
     "execution_count": 50,
     "metadata": {},
     "output_type": "execute_result"
    }
   ],
   "source": [
    "a2 + b2"
   ]
  },
  {
   "cell_type": "markdown",
   "id": "fca5521a-6008-4624-aaff-a78d1d000908",
   "metadata": {},
   "source": [
    "4) Subtact matix B from A"
   ]
  },
  {
   "cell_type": "code",
   "execution_count": 51,
   "id": "7dc42f74-2b3f-4375-94bc-4fb44f79976b",
   "metadata": {},
   "outputs": [
    {
     "data": {
      "text/plain": [
       "matrix([[0, 0, 0, 0],\n",
       "        [0, 0, 0, 0],\n",
       "        [0, 0, 0, 0]])"
      ]
     },
     "execution_count": 51,
     "metadata": {},
     "output_type": "execute_result"
    }
   ],
   "source": [
    "b2 - a2"
   ]
  },
  {
   "cell_type": "markdown",
   "id": "7e0725f4-c212-476f-b883-410a7fdaad45",
   "metadata": {},
   "source": [
    "5) Divide matrix B by A"
   ]
  },
  {
   "cell_type": "code",
   "execution_count": 53,
   "id": "072ca116-c00e-468c-91a5-6c943778a48e",
   "metadata": {},
   "outputs": [
    {
     "data": {
      "text/plain": [
       "matrix([[1., 1., 1., 1.],\n",
       "        [1., 1., 1., 1.],\n",
       "        [1., 1., 1., 1.]])"
      ]
     },
     "execution_count": 53,
     "metadata": {},
     "output_type": "execute_result"
    }
   ],
   "source": [
    "b2 / a2"
   ]
  },
  {
   "cell_type": "markdown",
   "id": "a863a5fa-95f1-4588-89c3-e64a3cb5d5ec",
   "metadata": {},
   "source": [
    "12. Which function in Numpy can be used to swap the byte order of an array?"
   ]
  },
  {
   "cell_type": "code",
   "execution_count": 54,
   "id": "2810ca47-2966-41bd-89c5-0b0ab4a81cce",
   "metadata": {},
   "outputs": [
    {
     "data": {
      "text/plain": [
       "array([[ 1,  2,  3,  4],\n",
       "       [ 5,  6,  7,  8],\n",
       "       [ 9, 10, 11, 12]])"
      ]
     },
     "execution_count": 54,
     "metadata": {},
     "output_type": "execute_result"
    }
   ],
   "source": [
    "# np.byteswap is used to swap the byte order of an array\n",
    "arr"
   ]
  },
  {
   "cell_type": "code",
   "execution_count": 55,
   "id": "6dc42791-4f9d-4b8c-a1a8-0e7161e1c126",
   "metadata": {},
   "outputs": [
    {
     "data": {
      "text/plain": [
       "array([[ 16777216,  33554432,  50331648,  67108864],\n",
       "       [ 83886080, 100663296, 117440512, 134217728],\n",
       "       [150994944, 167772160, 184549376, 201326592]])"
      ]
     },
     "execution_count": 55,
     "metadata": {},
     "output_type": "execute_result"
    }
   ],
   "source": [
    "arr.byteswap()"
   ]
  },
  {
   "cell_type": "markdown",
   "id": "339a525b-4670-406b-bfea-ec4709d5a809",
   "metadata": {},
   "source": [
    "13. What is the significance of the np.linalg.inv function?"
   ]
  },
  {
   "cell_type": "markdown",
   "id": "16cc2086-8218-4ea0-a7e6-d632ddfb899d",
   "metadata": {},
   "source": [
    "The np.linalg.inv function in NumPy is used to compute the inverse of a square matrix. The significance of this function lies in its utility for solving systems of linear equations, performing matrix division, and in various mathematical and scientific computations. Here's why it's significant:\n",
    "\n",
    "1) Solving Systems of Linear Equations\n",
    "2) Matrix Division\n",
    "3) Eigenvalue and Eigenvector Calculations\n",
    "4) Numerical Stability\n",
    "5) Inverse Matrices in Linear Algebra\n"
   ]
  },
  {
   "cell_type": "code",
   "execution_count": 59,
   "id": "f9afc467-8584-48ac-96a1-006b1df9a7f4",
   "metadata": {},
   "outputs": [
    {
     "data": {
      "text/plain": [
       "matrix([[ 3.15251974e+15, -6.30503948e+15,  3.15251974e+15],\n",
       "        [-6.30503948e+15,  1.26100790e+16, -6.30503948e+15],\n",
       "        [ 3.15251974e+15, -6.30503948e+15,  3.15251974e+15]])"
      ]
     },
     "execution_count": 59,
     "metadata": {},
     "output_type": "execute_result"
    }
   ],
   "source": [
    "ar = np.matrix([[1,2,3],[4,5,6],[7,8,9]])\n",
    "np.linalg.inv(ar)"
   ]
  },
  {
   "cell_type": "markdown",
   "id": "5dbecb7e-cd1f-472c-827c-d3ef53aec4a5",
   "metadata": {},
   "source": [
    "14. What does the np.reshape function do, and how is it used?"
   ]
  },
  {
   "cell_type": "raw",
   "id": "69d7c307-75d3-4102-89ff-798590e86c65",
   "metadata": {},
   "source": [
    "The np.reshape function in NumPy is used to change the shape of an array without changing its data. It allows you to specify the new shape of the array while preserving the order of the elements. This function can be particularly useful when you need to rearrange the dimensions of an array or convert a one-dimensional array into a multi-dimensional array (or vice versa)."
   ]
  },
  {
   "cell_type": "code",
   "execution_count": 60,
   "id": "832d285d-2e3f-4af1-a99e-cd6df6eb45fd",
   "metadata": {},
   "outputs": [
    {
     "data": {
      "text/plain": [
       "array([[ 1,  2,  3,  4],\n",
       "       [ 5,  6,  7,  8],\n",
       "       [ 9, 10, 11, 12]])"
      ]
     },
     "execution_count": 60,
     "metadata": {},
     "output_type": "execute_result"
    }
   ],
   "source": [
    "arr"
   ]
  },
  {
   "cell_type": "code",
   "execution_count": 61,
   "id": "60c51172-4589-4d33-a04b-064adc2abcfe",
   "metadata": {},
   "outputs": [
    {
     "data": {
      "text/plain": [
       "2"
      ]
     },
     "execution_count": 61,
     "metadata": {},
     "output_type": "execute_result"
    }
   ],
   "source": [
    "arr.ndim"
   ]
  },
  {
   "cell_type": "code",
   "execution_count": 62,
   "id": "2d7f2e62-65ff-484b-b778-8b278cba9f8c",
   "metadata": {},
   "outputs": [
    {
     "data": {
      "text/plain": [
       "array([[ 1,  2,  3,  4,  5,  6],\n",
       "       [ 7,  8,  9, 10, 11, 12]])"
      ]
     },
     "execution_count": 62,
     "metadata": {},
     "output_type": "execute_result"
    }
   ],
   "source": [
    "arr.reshape(2,6)"
   ]
  },
  {
   "cell_type": "code",
   "execution_count": 63,
   "id": "1a12075d-f734-4bca-8110-b539652768e0",
   "metadata": {},
   "outputs": [
    {
     "data": {
      "text/plain": [
       "array([[ 1,  2,  3],\n",
       "       [ 4,  5,  6],\n",
       "       [ 7,  8,  9],\n",
       "       [10, 11, 12]])"
      ]
     },
     "execution_count": 63,
     "metadata": {},
     "output_type": "execute_result"
    }
   ],
   "source": [
    "arr.reshape(4,3)"
   ]
  },
  {
   "cell_type": "markdown",
   "id": "d63742b1-682f-4104-bd4d-454210558e5e",
   "metadata": {},
   "source": [
    "15. What is broadcasting in Numpy?"
   ]
  },
  {
   "cell_type": "raw",
   "id": "e58c2dbd-775e-4679-ab79-d5d6ac8f7763",
   "metadata": {},
   "source": [
    "Broadcasting in NumPy refers to a set of rules for performing element-wise operations on arrays with different shapes. It allows arrays of different shapes to be combined and operated on together without the need for explicit looping.\n",
    "\n",
    "Broadcasting is particularly useful when working with arrays of different shapes in NumPy, as it enables efficient and concise computation of operations across arrays."
   ]
  },
  {
   "cell_type": "raw",
   "id": "3c45281f-90fd-473a-8c2d-6cb96b613881",
   "metadata": {},
   "source": [
    "The key concept behind broadcasting is that NumPy automatically adjusts the dimensions of the arrays to make their shapes compatible for element-wise operations. The following rules govern how broadcasting works in NumPy:"
   ]
  },
  {
   "cell_type": "raw",
   "id": "969c2697-01bb-480f-ab66-43c1a5a8fb72",
   "metadata": {},
   "source": [
    "Rule 1: Dimensions of Arrays:\n",
    "When operating on two arrays, NumPy compares their shapes element-wise. It starts with the trailing dimensions and works its way backward. The dimensions are compatible when they are equal, or one of them is 1."
   ]
  },
  {
   "cell_type": "raw",
   "id": "9c59f390-6a37-4e48-b6c1-f2770f8ead64",
   "metadata": {},
   "source": [
    "Rule 2: Array Expansion:\n",
    "If the dimensions of the two arrays are different, but one of them has a size of 1 along a particular dimension, NumPy automatically expands the array along that dimension to match the size of the other array."
   ]
  },
  {
   "cell_type": "raw",
   "id": "ba27aaa7-6b28-4895-a064-11f7c03500ec",
   "metadata": {},
   "source": [
    "Rule 3: Broadcasting Scalars:\n",
    "Scalars are treated as arrays with a shape of (1,). During broadcasting, a scalar can be combined with arrays of any shape, and the scalar value is effectively broadcasted to match the shape of the array."
   ]
  },
  {
   "cell_type": "code",
   "execution_count": 64,
   "id": "28a4ce87-b761-44cc-a3da-69b7a00ae9f5",
   "metadata": {},
   "outputs": [],
   "source": [
    "a = np.array([[1,2,3],[4,5,6]])\n",
    "b = np.array([10, 20, 30])"
   ]
  },
  {
   "cell_type": "code",
   "execution_count": 65,
   "id": "219ddcfa-c1e9-491c-acff-ea1fe6acb0b0",
   "metadata": {},
   "outputs": [
    {
     "data": {
      "text/plain": [
       "array([[11, 22, 33],\n",
       "       [14, 25, 36]])"
      ]
     },
     "execution_count": 65,
     "metadata": {},
     "output_type": "execute_result"
    }
   ],
   "source": [
    "a + b"
   ]
  },
  {
   "cell_type": "raw",
   "id": "9c72b69a-f689-43e6-8678-c2e520c06869",
   "metadata": {},
   "source": [
    " the array b is broadcasted along the rows to match the shape of array a. The result is an array where each element of b is added to the corresponding element in each row of a."
   ]
  },
  {
   "cell_type": "raw",
   "id": "d639b039-1af0-4a8e-9cb3-14ec7287c993",
   "metadata": {},
   "source": [
    "Broadcasting allows for efficient computation of element-wise operations between arrays of different shapes, including addition, subtraction, multiplication, division, and more. It simplifies the code by eliminating the need for explicit looping and enables concise and readable code for array operations."
   ]
  },
  {
   "cell_type": "code",
   "execution_count": null,
   "id": "b197206f-1e81-455a-9b92-68d58e0124d6",
   "metadata": {},
   "outputs": [],
   "source": []
  }
 ],
 "metadata": {
  "kernelspec": {
   "display_name": "Python 3 (ipykernel)",
   "language": "python",
   "name": "python3"
  },
  "language_info": {
   "codemirror_mode": {
    "name": "ipython",
    "version": 3
   },
   "file_extension": ".py",
   "mimetype": "text/x-python",
   "name": "python",
   "nbconvert_exporter": "python",
   "pygments_lexer": "ipython3",
   "version": "3.11.5"
  }
 },
 "nbformat": 4,
 "nbformat_minor": 5
}
